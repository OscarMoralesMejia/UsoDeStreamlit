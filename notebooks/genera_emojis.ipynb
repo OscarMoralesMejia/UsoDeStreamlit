{
 "cells": [
  {
   "cell_type": "code",
   "execution_count": 2,
   "metadata": {},
   "outputs": [
    {
     "name": "stdout",
     "output_type": "stream",
     "text": [
      "La imagen del emoji se ha guardado como 'bar_chart_emoji.png'\n"
     ]
    }
   ],
   "source": [
    "from PIL import Image, ImageDraw, ImageFont\n",
    "import emoji\n",
    "\n",
    "# Convertir el nombre del emoji a su representación gráfica\n",
    "emoji_char = emoji.emojize(':bar_chart:')\n",
    "\n",
    "# Crear una imagen en blanco\n",
    "image_size = 128\n",
    "image = Image.new('RGB', (image_size, image_size), color='white')\n",
    "draw = ImageDraw.Draw(image)\n",
    "\n",
    "# Obtener la fuente\n",
    "font_size = 100\n",
    "try:\n",
    "    # Intenta usar una fuente que soporte emojis\n",
    "    font = ImageFont.truetype(\"seguiemj.ttf\", font_size)\n",
    "except IOError:\n",
    "    # Usa una fuente predeterminada si no se encuentra la fuente de emoji\n",
    "    font = ImageFont.load_default()\n",
    "\n",
    "# Calcular la posición del emoji para centrarlo\n",
    "text_width, text_height = draw.textbbox((0, 0), emoji_char, font=font)[2:4]\n",
    "position = ((image_size - text_width) // 2, (image_size - text_height) // 2)\n",
    "\n",
    "# Dibujar el emoji en la imagen\n",
    "draw.text(position, emoji_char, font=font, fill=\"black\")\n",
    "\n",
    "# Guardar la imagen\n",
    "image.save('../imagenes/bar_chart_emoji.png')\n",
    "\n",
    "print(\"La imagen del emoji se ha guardado como 'bar_chart_emoji.png'\")\n"
   ]
  }
 ],
 "metadata": {
  "kernelspec": {
   "display_name": "ws_venv",
   "language": "python",
   "name": "python3"
  },
  "language_info": {
   "codemirror_mode": {
    "name": "ipython",
    "version": 3
   },
   "file_extension": ".py",
   "mimetype": "text/x-python",
   "name": "python",
   "nbconvert_exporter": "python",
   "pygments_lexer": "ipython3",
   "version": "3.11.7"
  }
 },
 "nbformat": 4,
 "nbformat_minor": 2
}
